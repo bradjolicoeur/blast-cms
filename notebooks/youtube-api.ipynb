{
 "cells": [
  {
   "cell_type": "markdown",
   "metadata": {},
   "source": [
    "Prerequisites\n",
    "1. Generate a key for the YouTube API here: [Developers Console](https://console.developers.google.com/)\n",
    "2. Create `secrets.json` file in same folder and add the key in `YouTubeApiKey` property.\n",
    "\n",
    "References:\n",
    "- https://www.csharp.com/article/youtube-api-integration-with-c-sharp-net/\n",
    "- https://www.code4it.dev/blog/get-youtube-video-details-dotnet/"
   ]
  },
  {
   "cell_type": "code",
   "execution_count": 4,
   "metadata": {
    "dotnet_interactive": {
     "language": "csharp"
    },
    "polyglot_notebook": {
     "kernelName": "csharp"
    },
    "vscode": {
     "languageId": "polyglot-notebook"
    }
   },
   "outputs": [
    {
     "data": {
      "text/html": [
       "<div><div></div><div></div><div><strong>Installed Packages</strong><ul><li><span>Google.Apis.YouTube.v3, 1.69.0.3707</span></li><li><span>Microsoft.Extensions.Configuration, 8.0.0</span></li><li><span>Microsoft.Extensions.Configuration.FileExtensions, 8.0.1</span></li><li><span>Microsoft.Extensions.Configuration.Json, 8.0.0</span></li></ul></div></div>"
      ]
     },
     "metadata": {},
     "output_type": "display_data"
    }
   ],
   "source": [
    "#r \"nuget: Google.Apis.YouTube.v3, 1.69.0.3707\"\n",
    "using Google.Apis.Services;\n",
    "using Google.Apis.YouTube.v3;\n",
    "\n",
    "#r \"nuget: Microsoft.Extensions.Configuration, 8.0.0\"\n",
    "#r \"nuget: Microsoft.Extensions.Configuration.FileExtensions, 8.0.1\"\n",
    "#r \"nuget: Microsoft.Extensions.Configuration.Json, 8.0.0\"\n",
    "\n",
    "\n",
    "using Microsoft.Extensions.Configuration;\n",
    "using System.IO;\n",
    "\n",
    "public static var config = new ConfigurationBuilder()\n",
    "          .AddJsonFile(Path.GetFullPath(\"secrets.json\"), optional: false, reloadOnChange: true)\n",
    "          .Build();\n",
    "\n",
    "public static string YouTubeKey =  config[\"YouTubeApiKey\"];"
   ]
  },
  {
   "cell_type": "markdown",
   "metadata": {},
   "source": [
    "1. Initialize the connection to YouTube API."
   ]
  },
  {
   "cell_type": "code",
   "execution_count": 15,
   "metadata": {
    "polyglot_notebook": {
     "kernelName": "csharp"
    },
    "vscode": {
     "languageId": "polyglot-notebook"
    }
   },
   "outputs": [],
   "source": [
    "var youtubeService = new YouTubeService(new BaseClientService.Initializer() {\n",
    "    ApiKey = YouTubeKey,\n",
    "        ApplicationName = \"Demo App\"\n",
    "});"
   ]
  },
  {
   "cell_type": "markdown",
   "metadata": {},
   "source": [
    "2. Parse the id from the provided URL."
   ]
  },
  {
   "cell_type": "code",
   "execution_count": 17,
   "metadata": {
    "polyglot_notebook": {
     "kernelName": "csharp"
    },
    "vscode": {
     "languageId": "polyglot-notebook"
    }
   },
   "outputs": [
    {
     "data": {
      "text/plain": [
       "EZ05e7EMOLM"
      ]
     },
     "metadata": {},
     "output_type": "display_data"
    }
   ],
   "source": [
    "var url = \"https://www.youtube.com/watch?v=EZ05e7EMOLM\";\n",
    "Uri uri = new Uri(url);\n",
    "var query = System.Web.HttpUtility.ParseQueryString(uri.Query); // Requires System.Web\n",
    "var videoId = query[\"v\"];\n",
    "videoId        "
   ]
  },
  {
   "cell_type": "markdown",
   "metadata": {},
   "source": [
    "3. Call the YouTube API and pull the details needed to create an entry in the feed"
   ]
  },
  {
   "cell_type": "code",
   "execution_count": null,
   "metadata": {
    "polyglot_notebook": {
     "kernelName": "csharp"
    },
    "vscode": {
     "languageId": "polyglot-notebook"
    }
   },
   "outputs": [
    {
     "name": "stdout",
     "output_type": "stream",
     "text": [
      "Title|🚀  TDD, Where Did It All Go Wrong (Ian Cooper)\r\n",
      "ChannelTitle|DevTernity Conference\r\n",
      "Description|🗓️ Upcoming developer events: https://dev.events Since Kent Beck wrote the book on TDD in 2002 a lot of words have been dedicated to the subject. But many of them propagated misunderstandings of Kent's original rules so that TDD practice bears little resemblance to Kent's original ideas. Key misunderstandings around what do I test, what is a unit test, and what is the 'public interface' have led to test suites that are brittle, hard to read, and do not support easy refactoring. In this talk, we re-discover Kent's original proposition, discover where key misunderstandings occurred and look at a better approach to TDD that supports software development instead of impeding it. Be prepared from some sacred cows to be slaughtered and fewer but better tests to be written.\r\n",
      "Title|🚀  TDD, Where Did It All Go Wrong (Ian Cooper)\r\n",
      "Thumbnail|https://i.ytimg.com/vi/EZ05e7EMOLM/default.jpg\r\n",
      "\r\n"
     ]
    },
    {
     "data": {
      "text/html": [
       "<details open=\"open\" class=\"dni-treeview\"><summary><span class=\"dni-code-hint\"><code>Google.Apis.YouTube.v3.Data.VideoSnippet</code></span></summary><div><table><thead><tr></tr></thead><tbody><tr><td>CategoryId</td><td><div class=\"dni-plaintext\"><pre>28</pre></div></td></tr><tr><td>ChannelId</td><td><div class=\"dni-plaintext\"><pre>UCvzMZyJZZ3XYQwbvOACVYrQ</pre></div></td></tr><tr><td>ChannelTitle</td><td><div class=\"dni-plaintext\"><pre>DevTernity Conference</pre></div></td></tr><tr><td>DefaultAudioLanguage</td><td><div class=\"dni-plaintext\"><pre>en-GB</pre></div></td></tr><tr><td>DefaultLanguage</td><td><div class=\"dni-plaintext\"><pre>&lt;null&gt;</pre></div></td></tr><tr><td>Description</td><td><div class=\"dni-plaintext\"><pre>&#128467;️ Upcoming developer events: https://dev.events Since Kent Beck wrote the book on TDD in 2002 a lot of words have been dedicated to the subject. But many of them propagated misunderstandings of Kent&#39;s original rules so that TDD practice bears little resemblance to Kent&#39;s original ideas. Key misunderstandings around what do I test, what is a unit test, and what is the &#39;public interface&#39; have led to test suites that are brittle, hard to read, and do not support easy refactoring. In this talk, we re-discover Kent&#39;s original proposition, discover where key misunderstandings occurred and look at a better approach to TDD that supports software development instead of impeding it. Be prepared from some sacred cows to be slaughtered and fewer but better tests to be written.</pre></div></td></tr><tr><td>LiveBroadcastContent</td><td><div class=\"dni-plaintext\"><pre>none</pre></div></td></tr><tr><td>Localized</td><td><details class=\"dni-treeview\"><summary><span class=\"dni-code-hint\"><code>Google.Apis.YouTube.v3.Data.VideoLocalization</code></span></summary><div><table><thead><tr></tr></thead><tbody><tr><td>Description</td><td><div class=\"dni-plaintext\"><pre>&#128467;️ Upcoming developer events: https://dev.events Since Kent Beck wrote the book on TDD in 2002 a lot of words have been dedicated to the subject. But many of them propagated misunderstandings of Kent&#39;s original rules so that TDD practice bears little resemblance to Kent&#39;s original ideas. Key misunderstandings around what do I test, what is a unit test, and what is the &#39;public interface&#39; have led to test suites that are brittle, hard to read, and do not support easy refactoring. In this talk, we re-discover Kent&#39;s original proposition, discover where key misunderstandings occurred and look at a better approach to TDD that supports software development instead of impeding it. Be prepared from some sacred cows to be slaughtered and fewer but better tests to be written.</pre></div></td></tr><tr><td>Title</td><td><div class=\"dni-plaintext\"><pre>&#128640;  TDD, Where Did It All Go Wrong (Ian Cooper)</pre></div></td></tr><tr><td>ETag</td><td><div class=\"dni-plaintext\"><pre>&lt;null&gt;</pre></div></td></tr></tbody></table></div></details></td></tr><tr><td>PublishedAtRaw</td><td><div class=\"dni-plaintext\"><pre>2017-12-20T12:12:39Z</pre></div></td></tr><tr><td>PublishedAtDateTimeOffset</td><td><span>2017-12-20 12:12:39Z</span></td></tr><tr><td>PublishedAt</td><td><span>2017-12-20 07:12:39Z</span></td></tr><tr><td>Tags</td><td><div class=\"dni-plaintext\"><pre>[ devternity, better testing, bdd, clean code, refactoring ]</pre></div></td></tr><tr><td>Thumbnails</td><td><details class=\"dni-treeview\"><summary><span class=\"dni-code-hint\"><code>Google.Apis.YouTube.v3.Data.ThumbnailDetails</code></span></summary><div><table><thead><tr></tr></thead><tbody><tr><td>Default__</td><td><details class=\"dni-treeview\"><summary><span class=\"dni-code-hint\"><code>Google.Apis.YouTube.v3.Data.Thumbnail</code></span></summary><div><table><thead><tr></tr></thead><tbody><tr><td>Height</td><td><div class=\"dni-plaintext\"><pre>90</pre></div></td></tr><tr><td>Url</td><td><div class=\"dni-plaintext\"><pre>https://i.ytimg.com/vi/EZ05e7EMOLM/default.jpg</pre></div></td></tr><tr><td>Width</td><td><div class=\"dni-plaintext\"><pre>120</pre></div></td></tr><tr><td>ETag</td><td><div class=\"dni-plaintext\"><pre>&lt;null&gt;</pre></div></td></tr></tbody></table></div></details></td></tr><tr><td>High</td><td><details class=\"dni-treeview\"><summary><span class=\"dni-code-hint\"><code>Google.Apis.YouTube.v3.Data.Thumbnail</code></span></summary><div><table><thead><tr></tr></thead><tbody><tr><td>Height</td><td><div class=\"dni-plaintext\"><pre>360</pre></div></td></tr><tr><td>Url</td><td><div class=\"dni-plaintext\"><pre>https://i.ytimg.com/vi/EZ05e7EMOLM/hqdefault.jpg</pre></div></td></tr><tr><td>Width</td><td><div class=\"dni-plaintext\"><pre>480</pre></div></td></tr><tr><td>ETag</td><td><div class=\"dni-plaintext\"><pre>&lt;null&gt;</pre></div></td></tr></tbody></table></div></details></td></tr><tr><td>Maxres</td><td><details class=\"dni-treeview\"><summary><span class=\"dni-code-hint\"><code>Google.Apis.YouTube.v3.Data.Thumbnail</code></span></summary><div><table><thead><tr></tr></thead><tbody><tr><td>Height</td><td><div class=\"dni-plaintext\"><pre>720</pre></div></td></tr><tr><td>Url</td><td><div class=\"dni-plaintext\"><pre>https://i.ytimg.com/vi/EZ05e7EMOLM/maxresdefault.jpg</pre></div></td></tr><tr><td>Width</td><td><div class=\"dni-plaintext\"><pre>1280</pre></div></td></tr><tr><td>ETag</td><td><div class=\"dni-plaintext\"><pre>&lt;null&gt;</pre></div></td></tr></tbody></table></div></details></td></tr><tr><td>Medium</td><td><details class=\"dni-treeview\"><summary><span class=\"dni-code-hint\"><code>Google.Apis.YouTube.v3.Data.Thumbnail</code></span></summary><div><table><thead><tr></tr></thead><tbody><tr><td>Height</td><td><div class=\"dni-plaintext\"><pre>180</pre></div></td></tr><tr><td>Url</td><td><div class=\"dni-plaintext\"><pre>https://i.ytimg.com/vi/EZ05e7EMOLM/mqdefault.jpg</pre></div></td></tr><tr><td>Width</td><td><div class=\"dni-plaintext\"><pre>320</pre></div></td></tr><tr><td>ETag</td><td><div class=\"dni-plaintext\"><pre>&lt;null&gt;</pre></div></td></tr></tbody></table></div></details></td></tr><tr><td>Standard</td><td><details class=\"dni-treeview\"><summary><span class=\"dni-code-hint\"><code>Google.Apis.YouTube.v3.Data.Thumbnail</code></span></summary><div><table><thead><tr></tr></thead><tbody><tr><td>Height</td><td><div class=\"dni-plaintext\"><pre>480</pre></div></td></tr><tr><td>Url</td><td><div class=\"dni-plaintext\"><pre>https://i.ytimg.com/vi/EZ05e7EMOLM/sddefault.jpg</pre></div></td></tr><tr><td>Width</td><td><div class=\"dni-plaintext\"><pre>640</pre></div></td></tr><tr><td>ETag</td><td><div class=\"dni-plaintext\"><pre>&lt;null&gt;</pre></div></td></tr></tbody></table></div></details></td></tr><tr><td>ETag</td><td><div class=\"dni-plaintext\"><pre>&lt;null&gt;</pre></div></td></tr></tbody></table></div></details></td></tr><tr><td>Title</td><td><div class=\"dni-plaintext\"><pre>&#128640;  TDD, Where Did It All Go Wrong (Ian Cooper)</pre></div></td></tr><tr><td>ETag</td><td><div class=\"dni-plaintext\"><pre>&lt;null&gt;</pre></div></td></tr></tbody></table></div></details><style>\r\n",
       ".dni-code-hint {\r\n",
       "    font-style: italic;\r\n",
       "    overflow: hidden;\r\n",
       "    white-space: nowrap;\r\n",
       "}\r\n",
       ".dni-treeview {\r\n",
       "    white-space: nowrap;\r\n",
       "}\r\n",
       ".dni-treeview td {\r\n",
       "    vertical-align: top;\r\n",
       "    text-align: start;\r\n",
       "}\r\n",
       "details.dni-treeview {\r\n",
       "    padding-left: 1em;\r\n",
       "}\r\n",
       "table td {\r\n",
       "    text-align: start;\r\n",
       "}\r\n",
       "table tr { \r\n",
       "    vertical-align: top; \r\n",
       "    margin: 0em 0px;\r\n",
       "}\r\n",
       "table tr td pre \r\n",
       "{ \r\n",
       "    vertical-align: top !important; \r\n",
       "    margin: 0em 0px !important;\r\n",
       "} \r\n",
       "table th {\r\n",
       "    text-align: start;\r\n",
       "}\r\n",
       "</style>"
      ]
     },
     "metadata": {},
     "output_type": "display_data"
    }
   ],
   "source": [
    "var request = youtubeService.Videos.List(\"snippet\");\n",
    "request.Id = videoId;\n",
    "\n",
    "var channelsListResponse = await request.ExecuteAsync();\n",
    "\n",
    "var snippet = channelsListResponse.Items[0].Snippet;\n",
    "\n",
    "var sb = new StringBuilder();\n",
    "sb.Append(\"Title|\");\n",
    "sb.AppendLine(snippet.Title);\n",
    "sb.Append(\"ChannelTitle|\");\n",
    "sb.AppendLine(snippet.ChannelTitle);\n",
    "sb.Append(\"Description|\");\n",
    "sb.AppendLine(snippet.Description);\n",
    "sb.Append(\"Title|\");\n",
    "sb.AppendLine(snippet.Title);\n",
    "sb.Append(\"Thumbnail|\");\n",
    "sb.AppendLine(snippet.Thumbnails.Default__.Url);\n",
    "\n",
    "\n",
    "Console.WriteLine(sb.ToString());\n",
    "snippet"
   ]
  }
 ],
 "metadata": {
  "kernelspec": {
   "display_name": ".NET (C#)",
   "language": "C#",
   "name": ".net-csharp"
  },
  "language_info": {
   "name": "csharp"
  },
  "polyglot_notebook": {
   "kernelInfo": {
    "defaultKernelName": "csharp",
    "items": [
     {
      "aliases": [],
      "name": "csharp"
     }
    ]
   }
  }
 },
 "nbformat": 4,
 "nbformat_minor": 2
}
